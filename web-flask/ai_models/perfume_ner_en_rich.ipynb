{
  "cells": [
    {
      "cell_type": "markdown",
      "metadata": {},
      "source": [
        "# 🧠 Perfume Feature Extraction NER Model\n",
        "This notebook trains a Named Entity Recognition (NER) model using **spaCy** to extract 8 structured features from English customer sentences about perfume preferences.\n",
        "\n",
        "### Extracted Features:\n",
        "- `AGE`: Age (normalized 0–1)\n",
        "- `GENDER`: Gender (Male, Female, Unisex)\n",
        "- `PERSONALITY`: Style type (e.g., Elegant, Sporty)\n",
        "- `PREFERRED_ACCORD`: Preferred scent families (e.g., floral, woody)\n",
        "- `USAGE_SITUATION`: Usage scenarios (e.g., Work, Date Night)\n",
        "- `SILLAGE`: Scent trail (Short, Medium, Long)\n",
        "- `LONGEVITY`: How long it lasts (Short, Medium, Long)\n",
        "- `PRICE`: Price category (Affordable, Average, High-end)\n"
      ]
    },
    {
      "cell_type": "code",
      "execution_count": 1,
      "metadata": {},
      "outputs": [
        {
          "name": "stdout",
          "output_type": "stream",
          "text": [
            "Requirement already satisfied: spacy in c:\\users\\admin\\desktop\\raspi4-edgelectronix\\venv\\lib\\site-packages (3.8.7)\n",
            "Requirement already satisfied: spacy-legacy<3.1.0,>=3.0.11 in c:\\users\\admin\\desktop\\raspi4-edgelectronix\\venv\\lib\\site-packages (from spacy) (3.0.12)\n",
            "Requirement already satisfied: spacy-loggers<2.0.0,>=1.0.0 in c:\\users\\admin\\desktop\\raspi4-edgelectronix\\venv\\lib\\site-packages (from spacy) (1.0.5)\n",
            "Requirement already satisfied: murmurhash<1.1.0,>=0.28.0 in c:\\users\\admin\\desktop\\raspi4-edgelectronix\\venv\\lib\\site-packages (from spacy) (1.0.13)\n",
            "Requirement already satisfied: cymem<2.1.0,>=2.0.2 in c:\\users\\admin\\desktop\\raspi4-edgelectronix\\venv\\lib\\site-packages (from spacy) (2.0.11)\n",
            "Requirement already satisfied: preshed<3.1.0,>=3.0.2 in c:\\users\\admin\\desktop\\raspi4-edgelectronix\\venv\\lib\\site-packages (from spacy) (3.0.10)\n",
            "Requirement already satisfied: thinc<8.4.0,>=8.3.4 in c:\\users\\admin\\desktop\\raspi4-edgelectronix\\venv\\lib\\site-packages (from spacy) (8.3.6)\n",
            "Requirement already satisfied: wasabi<1.2.0,>=0.9.1 in c:\\users\\admin\\desktop\\raspi4-edgelectronix\\venv\\lib\\site-packages (from spacy) (1.1.3)\n",
            "Requirement already satisfied: srsly<3.0.0,>=2.4.3 in c:\\users\\admin\\desktop\\raspi4-edgelectronix\\venv\\lib\\site-packages (from spacy) (2.5.1)\n",
            "Requirement already satisfied: catalogue<2.1.0,>=2.0.6 in c:\\users\\admin\\desktop\\raspi4-edgelectronix\\venv\\lib\\site-packages (from spacy) (2.0.10)\n",
            "Requirement already satisfied: weasel<0.5.0,>=0.1.0 in c:\\users\\admin\\desktop\\raspi4-edgelectronix\\venv\\lib\\site-packages (from spacy) (0.4.1)\n",
            "Requirement already satisfied: typer<1.0.0,>=0.3.0 in c:\\users\\admin\\desktop\\raspi4-edgelectronix\\venv\\lib\\site-packages (from spacy) (0.16.0)\n",
            "Requirement already satisfied: tqdm<5.0.0,>=4.38.0 in c:\\users\\admin\\desktop\\raspi4-edgelectronix\\venv\\lib\\site-packages (from spacy) (4.67.1)\n",
            "Requirement already satisfied: numpy>=1.19.0 in c:\\users\\admin\\desktop\\raspi4-edgelectronix\\venv\\lib\\site-packages (from spacy) (2.3.2)\n",
            "Requirement already satisfied: requests<3.0.0,>=2.13.0 in c:\\users\\admin\\desktop\\raspi4-edgelectronix\\venv\\lib\\site-packages (from spacy) (2.32.4)\n",
            "Requirement already satisfied: pydantic!=1.8,!=1.8.1,<3.0.0,>=1.7.4 in c:\\users\\admin\\desktop\\raspi4-edgelectronix\\venv\\lib\\site-packages (from spacy) (2.11.7)\n",
            "Requirement already satisfied: jinja2 in c:\\users\\admin\\desktop\\raspi4-edgelectronix\\venv\\lib\\site-packages (from spacy) (3.1.6)\n",
            "Requirement already satisfied: setuptools in c:\\users\\admin\\desktop\\raspi4-edgelectronix\\venv\\lib\\site-packages (from spacy) (65.5.0)\n",
            "Requirement already satisfied: packaging>=20.0 in c:\\users\\admin\\desktop\\raspi4-edgelectronix\\venv\\lib\\site-packages (from spacy) (25.0)\n",
            "Requirement already satisfied: langcodes<4.0.0,>=3.2.0 in c:\\users\\admin\\desktop\\raspi4-edgelectronix\\venv\\lib\\site-packages (from spacy) (3.5.0)\n",
            "Requirement already satisfied: language-data>=1.2 in c:\\users\\admin\\desktop\\raspi4-edgelectronix\\venv\\lib\\site-packages (from langcodes<4.0.0,>=3.2.0->spacy) (1.3.0)\n",
            "Requirement already satisfied: annotated-types>=0.6.0 in c:\\users\\admin\\desktop\\raspi4-edgelectronix\\venv\\lib\\site-packages (from pydantic!=1.8,!=1.8.1,<3.0.0,>=1.7.4->spacy) (0.7.0)\n",
            "Requirement already satisfied: pydantic-core==2.33.2 in c:\\users\\admin\\desktop\\raspi4-edgelectronix\\venv\\lib\\site-packages (from pydantic!=1.8,!=1.8.1,<3.0.0,>=1.7.4->spacy) (2.33.2)\n",
            "Requirement already satisfied: typing-extensions>=4.12.2 in c:\\users\\admin\\desktop\\raspi4-edgelectronix\\venv\\lib\\site-packages (from pydantic!=1.8,!=1.8.1,<3.0.0,>=1.7.4->spacy) (4.14.1)\n",
            "Requirement already satisfied: typing-inspection>=0.4.0 in c:\\users\\admin\\desktop\\raspi4-edgelectronix\\venv\\lib\\site-packages (from pydantic!=1.8,!=1.8.1,<3.0.0,>=1.7.4->spacy) (0.4.1)\n",
            "Requirement already satisfied: charset_normalizer<4,>=2 in c:\\users\\admin\\desktop\\raspi4-edgelectronix\\venv\\lib\\site-packages (from requests<3.0.0,>=2.13.0->spacy) (3.4.2)\n",
            "Requirement already satisfied: idna<4,>=2.5 in c:\\users\\admin\\desktop\\raspi4-edgelectronix\\venv\\lib\\site-packages (from requests<3.0.0,>=2.13.0->spacy) (3.10)\n",
            "Requirement already satisfied: urllib3<3,>=1.21.1 in c:\\users\\admin\\desktop\\raspi4-edgelectronix\\venv\\lib\\site-packages (from requests<3.0.0,>=2.13.0->spacy) (2.5.0)\n",
            "Requirement already satisfied: certifi>=2017.4.17 in c:\\users\\admin\\desktop\\raspi4-edgelectronix\\venv\\lib\\site-packages (from requests<3.0.0,>=2.13.0->spacy) (2025.7.14)\n",
            "Requirement already satisfied: blis<1.4.0,>=1.3.0 in c:\\users\\admin\\desktop\\raspi4-edgelectronix\\venv\\lib\\site-packages (from thinc<8.4.0,>=8.3.4->spacy) (1.3.0)\n",
            "Requirement already satisfied: confection<1.0.0,>=0.0.1 in c:\\users\\admin\\desktop\\raspi4-edgelectronix\\venv\\lib\\site-packages (from thinc<8.4.0,>=8.3.4->spacy) (0.1.5)\n",
            "Requirement already satisfied: colorama in c:\\users\\admin\\desktop\\raspi4-edgelectronix\\venv\\lib\\site-packages (from tqdm<5.0.0,>=4.38.0->spacy) (0.4.6)\n",
            "Requirement already satisfied: click>=8.0.0 in c:\\users\\admin\\desktop\\raspi4-edgelectronix\\venv\\lib\\site-packages (from typer<1.0.0,>=0.3.0->spacy) (8.2.1)\n",
            "Requirement already satisfied: shellingham>=1.3.0 in c:\\users\\admin\\desktop\\raspi4-edgelectronix\\venv\\lib\\site-packages (from typer<1.0.0,>=0.3.0->spacy) (1.5.4)\n",
            "Requirement already satisfied: rich>=10.11.0 in c:\\users\\admin\\desktop\\raspi4-edgelectronix\\venv\\lib\\site-packages (from typer<1.0.0,>=0.3.0->spacy) (14.1.0)\n",
            "Requirement already satisfied: cloudpathlib<1.0.0,>=0.7.0 in c:\\users\\admin\\desktop\\raspi4-edgelectronix\\venv\\lib\\site-packages (from weasel<0.5.0,>=0.1.0->spacy) (0.21.1)\n",
            "Requirement already satisfied: smart-open<8.0.0,>=5.2.1 in c:\\users\\admin\\desktop\\raspi4-edgelectronix\\venv\\lib\\site-packages (from weasel<0.5.0,>=0.1.0->spacy) (7.3.0.post1)\n",
            "Requirement already satisfied: MarkupSafe>=2.0 in c:\\users\\admin\\desktop\\raspi4-edgelectronix\\venv\\lib\\site-packages (from jinja2->spacy) (3.0.2)\n",
            "Requirement already satisfied: marisa-trie>=1.1.0 in c:\\users\\admin\\desktop\\raspi4-edgelectronix\\venv\\lib\\site-packages (from language-data>=1.2->langcodes<4.0.0,>=3.2.0->spacy) (1.2.1)\n",
            "Requirement already satisfied: markdown-it-py>=2.2.0 in c:\\users\\admin\\desktop\\raspi4-edgelectronix\\venv\\lib\\site-packages (from rich>=10.11.0->typer<1.0.0,>=0.3.0->spacy) (3.0.0)\n",
            "Requirement already satisfied: pygments<3.0.0,>=2.13.0 in c:\\users\\admin\\desktop\\raspi4-edgelectronix\\venv\\lib\\site-packages (from rich>=10.11.0->typer<1.0.0,>=0.3.0->spacy) (2.19.2)\n",
            "Requirement already satisfied: wrapt in c:\\users\\admin\\desktop\\raspi4-edgelectronix\\venv\\lib\\site-packages (from smart-open<8.0.0,>=5.2.1->weasel<0.5.0,>=0.1.0->spacy) (1.17.2)\n",
            "Requirement already satisfied: mdurl~=0.1 in c:\\users\\admin\\desktop\\raspi4-edgelectronix\\venv\\lib\\site-packages (from markdown-it-py>=2.2.0->rich>=10.11.0->typer<1.0.0,>=0.3.0->spacy) (0.1.2)\n"
          ]
        },
        {
          "name": "stderr",
          "output_type": "stream",
          "text": [
            "\n",
            "[notice] A new release of pip is available: 24.0 -> 25.2\n",
            "[notice] To update, run: python.exe -m pip install --upgrade pip\n"
          ]
        },
        {
          "name": "stdout",
          "output_type": "stream",
          "text": [
            "Requirement already satisfied: spacy[transformers] in c:\\users\\admin\\desktop\\raspi4-edgelectronix\\venv\\lib\\site-packages (3.8.7)\n",
            "Requirement already satisfied: spacy-legacy<3.1.0,>=3.0.11 in c:\\users\\admin\\desktop\\raspi4-edgelectronix\\venv\\lib\\site-packages (from spacy[transformers]) (3.0.12)\n",
            "Requirement already satisfied: spacy-loggers<2.0.0,>=1.0.0 in c:\\users\\admin\\desktop\\raspi4-edgelectronix\\venv\\lib\\site-packages (from spacy[transformers]) (1.0.5)\n",
            "Requirement already satisfied: murmurhash<1.1.0,>=0.28.0 in c:\\users\\admin\\desktop\\raspi4-edgelectronix\\venv\\lib\\site-packages (from spacy[transformers]) (1.0.13)\n",
            "Requirement already satisfied: cymem<2.1.0,>=2.0.2 in c:\\users\\admin\\desktop\\raspi4-edgelectronix\\venv\\lib\\site-packages (from spacy[transformers]) (2.0.11)\n",
            "Requirement already satisfied: preshed<3.1.0,>=3.0.2 in c:\\users\\admin\\desktop\\raspi4-edgelectronix\\venv\\lib\\site-packages (from spacy[transformers]) (3.0.10)\n",
            "Requirement already satisfied: thinc<8.4.0,>=8.3.4 in c:\\users\\admin\\desktop\\raspi4-edgelectronix\\venv\\lib\\site-packages (from spacy[transformers]) (8.3.6)\n",
            "Requirement already satisfied: wasabi<1.2.0,>=0.9.1 in c:\\users\\admin\\desktop\\raspi4-edgelectronix\\venv\\lib\\site-packages (from spacy[transformers]) (1.1.3)\n",
            "Requirement already satisfied: srsly<3.0.0,>=2.4.3 in c:\\users\\admin\\desktop\\raspi4-edgelectronix\\venv\\lib\\site-packages (from spacy[transformers]) (2.5.1)\n",
            "Requirement already satisfied: catalogue<2.1.0,>=2.0.6 in c:\\users\\admin\\desktop\\raspi4-edgelectronix\\venv\\lib\\site-packages (from spacy[transformers]) (2.0.10)\n",
            "Requirement already satisfied: weasel<0.5.0,>=0.1.0 in c:\\users\\admin\\desktop\\raspi4-edgelectronix\\venv\\lib\\site-packages (from spacy[transformers]) (0.4.1)\n",
            "Requirement already satisfied: typer<1.0.0,>=0.3.0 in c:\\users\\admin\\desktop\\raspi4-edgelectronix\\venv\\lib\\site-packages (from spacy[transformers]) (0.16.0)\n",
            "Requirement already satisfied: tqdm<5.0.0,>=4.38.0 in c:\\users\\admin\\desktop\\raspi4-edgelectronix\\venv\\lib\\site-packages (from spacy[transformers]) (4.67.1)\n",
            "Requirement already satisfied: numpy>=1.19.0 in c:\\users\\admin\\desktop\\raspi4-edgelectronix\\venv\\lib\\site-packages (from spacy[transformers]) (2.3.2)\n",
            "Requirement already satisfied: requests<3.0.0,>=2.13.0 in c:\\users\\admin\\desktop\\raspi4-edgelectronix\\venv\\lib\\site-packages (from spacy[transformers]) (2.32.4)\n",
            "Requirement already satisfied: pydantic!=1.8,!=1.8.1,<3.0.0,>=1.7.4 in c:\\users\\admin\\desktop\\raspi4-edgelectronix\\venv\\lib\\site-packages (from spacy[transformers]) (2.11.7)\n",
            "Requirement already satisfied: jinja2 in c:\\users\\admin\\desktop\\raspi4-edgelectronix\\venv\\lib\\site-packages (from spacy[transformers]) (3.1.6)\n",
            "Requirement already satisfied: setuptools in c:\\users\\admin\\desktop\\raspi4-edgelectronix\\venv\\lib\\site-packages (from spacy[transformers]) (65.5.0)\n",
            "Requirement already satisfied: packaging>=20.0 in c:\\users\\admin\\desktop\\raspi4-edgelectronix\\venv\\lib\\site-packages (from spacy[transformers]) (25.0)\n",
            "Requirement already satisfied: langcodes<4.0.0,>=3.2.0 in c:\\users\\admin\\desktop\\raspi4-edgelectronix\\venv\\lib\\site-packages (from spacy[transformers]) (3.5.0)\n",
            "Requirement already satisfied: spacy_transformers<1.4.0,>=1.1.2 in c:\\users\\admin\\desktop\\raspi4-edgelectronix\\venv\\lib\\site-packages (from spacy[transformers]) (1.3.9)\n",
            "Requirement already satisfied: language-data>=1.2 in c:\\users\\admin\\desktop\\raspi4-edgelectronix\\venv\\lib\\site-packages (from langcodes<4.0.0,>=3.2.0->spacy[transformers]) (1.3.0)\n",
            "Requirement already satisfied: annotated-types>=0.6.0 in c:\\users\\admin\\desktop\\raspi4-edgelectronix\\venv\\lib\\site-packages (from pydantic!=1.8,!=1.8.1,<3.0.0,>=1.7.4->spacy[transformers]) (0.7.0)\n",
            "Requirement already satisfied: pydantic-core==2.33.2 in c:\\users\\admin\\desktop\\raspi4-edgelectronix\\venv\\lib\\site-packages (from pydantic!=1.8,!=1.8.1,<3.0.0,>=1.7.4->spacy[transformers]) (2.33.2)\n",
            "Requirement already satisfied: typing-extensions>=4.12.2 in c:\\users\\admin\\desktop\\raspi4-edgelectronix\\venv\\lib\\site-packages (from pydantic!=1.8,!=1.8.1,<3.0.0,>=1.7.4->spacy[transformers]) (4.14.1)\n",
            "Requirement already satisfied: typing-inspection>=0.4.0 in c:\\users\\admin\\desktop\\raspi4-edgelectronix\\venv\\lib\\site-packages (from pydantic!=1.8,!=1.8.1,<3.0.0,>=1.7.4->spacy[transformers]) (0.4.1)\n",
            "Requirement already satisfied: charset_normalizer<4,>=2 in c:\\users\\admin\\desktop\\raspi4-edgelectronix\\venv\\lib\\site-packages (from requests<3.0.0,>=2.13.0->spacy[transformers]) (3.4.2)\n",
            "Requirement already satisfied: idna<4,>=2.5 in c:\\users\\admin\\desktop\\raspi4-edgelectronix\\venv\\lib\\site-packages (from requests<3.0.0,>=2.13.0->spacy[transformers]) (3.10)\n",
            "Requirement already satisfied: urllib3<3,>=1.21.1 in c:\\users\\admin\\desktop\\raspi4-edgelectronix\\venv\\lib\\site-packages (from requests<3.0.0,>=2.13.0->spacy[transformers]) (2.5.0)\n",
            "Requirement already satisfied: certifi>=2017.4.17 in c:\\users\\admin\\desktop\\raspi4-edgelectronix\\venv\\lib\\site-packages (from requests<3.0.0,>=2.13.0->spacy[transformers]) (2025.7.14)\n",
            "Requirement already satisfied: transformers<4.50.0,>=3.4.0 in c:\\users\\admin\\desktop\\raspi4-edgelectronix\\venv\\lib\\site-packages (from spacy_transformers<1.4.0,>=1.1.2->spacy[transformers]) (4.49.0)\n",
            "Requirement already satisfied: torch>=1.8.0 in c:\\users\\admin\\desktop\\raspi4-edgelectronix\\venv\\lib\\site-packages (from spacy_transformers<1.4.0,>=1.1.2->spacy[transformers]) (2.7.1)\n",
            "Requirement already satisfied: spacy-alignments<1.0.0,>=0.7.2 in c:\\users\\admin\\desktop\\raspi4-edgelectronix\\venv\\lib\\site-packages (from spacy_transformers<1.4.0,>=1.1.2->spacy[transformers]) (0.9.2)\n",
            "Requirement already satisfied: blis<1.4.0,>=1.3.0 in c:\\users\\admin\\desktop\\raspi4-edgelectronix\\venv\\lib\\site-packages (from thinc<8.4.0,>=8.3.4->spacy[transformers]) (1.3.0)\n",
            "Requirement already satisfied: confection<1.0.0,>=0.0.1 in c:\\users\\admin\\desktop\\raspi4-edgelectronix\\venv\\lib\\site-packages (from thinc<8.4.0,>=8.3.4->spacy[transformers]) (0.1.5)\n",
            "Requirement already satisfied: colorama in c:\\users\\admin\\desktop\\raspi4-edgelectronix\\venv\\lib\\site-packages (from tqdm<5.0.0,>=4.38.0->spacy[transformers]) (0.4.6)\n",
            "Requirement already satisfied: click>=8.0.0 in c:\\users\\admin\\desktop\\raspi4-edgelectronix\\venv\\lib\\site-packages (from typer<1.0.0,>=0.3.0->spacy[transformers]) (8.2.1)\n",
            "Requirement already satisfied: shellingham>=1.3.0 in c:\\users\\admin\\desktop\\raspi4-edgelectronix\\venv\\lib\\site-packages (from typer<1.0.0,>=0.3.0->spacy[transformers]) (1.5.4)\n",
            "Requirement already satisfied: rich>=10.11.0 in c:\\users\\admin\\desktop\\raspi4-edgelectronix\\venv\\lib\\site-packages (from typer<1.0.0,>=0.3.0->spacy[transformers]) (14.1.0)\n",
            "Requirement already satisfied: cloudpathlib<1.0.0,>=0.7.0 in c:\\users\\admin\\desktop\\raspi4-edgelectronix\\venv\\lib\\site-packages (from weasel<0.5.0,>=0.1.0->spacy[transformers]) (0.21.1)\n",
            "Requirement already satisfied: smart-open<8.0.0,>=5.2.1 in c:\\users\\admin\\desktop\\raspi4-edgelectronix\\venv\\lib\\site-packages (from weasel<0.5.0,>=0.1.0->spacy[transformers]) (7.3.0.post1)\n",
            "Requirement already satisfied: MarkupSafe>=2.0 in c:\\users\\admin\\desktop\\raspi4-edgelectronix\\venv\\lib\\site-packages (from jinja2->spacy[transformers]) (3.0.2)\n",
            "Requirement already satisfied: marisa-trie>=1.1.0 in c:\\users\\admin\\desktop\\raspi4-edgelectronix\\venv\\lib\\site-packages (from language-data>=1.2->langcodes<4.0.0,>=3.2.0->spacy[transformers]) (1.2.1)\n",
            "Requirement already satisfied: markdown-it-py>=2.2.0 in c:\\users\\admin\\desktop\\raspi4-edgelectronix\\venv\\lib\\site-packages (from rich>=10.11.0->typer<1.0.0,>=0.3.0->spacy[transformers]) (3.0.0)\n",
            "Requirement already satisfied: pygments<3.0.0,>=2.13.0 in c:\\users\\admin\\desktop\\raspi4-edgelectronix\\venv\\lib\\site-packages (from rich>=10.11.0->typer<1.0.0,>=0.3.0->spacy[transformers]) (2.19.2)\n",
            "Requirement already satisfied: wrapt in c:\\users\\admin\\desktop\\raspi4-edgelectronix\\venv\\lib\\site-packages (from smart-open<8.0.0,>=5.2.1->weasel<0.5.0,>=0.1.0->spacy[transformers]) (1.17.2)\n",
            "Requirement already satisfied: filelock in c:\\users\\admin\\desktop\\raspi4-edgelectronix\\venv\\lib\\site-packages (from torch>=1.8.0->spacy_transformers<1.4.0,>=1.1.2->spacy[transformers]) (3.18.0)\n",
            "Requirement already satisfied: sympy>=1.13.3 in c:\\users\\admin\\desktop\\raspi4-edgelectronix\\venv\\lib\\site-packages (from torch>=1.8.0->spacy_transformers<1.4.0,>=1.1.2->spacy[transformers]) (1.14.0)\n",
            "Requirement already satisfied: networkx in c:\\users\\admin\\desktop\\raspi4-edgelectronix\\venv\\lib\\site-packages (from torch>=1.8.0->spacy_transformers<1.4.0,>=1.1.2->spacy[transformers]) (3.5)\n",
            "Requirement already satisfied: fsspec in c:\\users\\admin\\desktop\\raspi4-edgelectronix\\venv\\lib\\site-packages (from torch>=1.8.0->spacy_transformers<1.4.0,>=1.1.2->spacy[transformers]) (2025.7.0)\n",
            "Requirement already satisfied: huggingface-hub<1.0,>=0.26.0 in c:\\users\\admin\\desktop\\raspi4-edgelectronix\\venv\\lib\\site-packages (from transformers<4.50.0,>=3.4.0->spacy_transformers<1.4.0,>=1.1.2->spacy[transformers]) (0.34.1)\n",
            "Requirement already satisfied: pyyaml>=5.1 in c:\\users\\admin\\desktop\\raspi4-edgelectronix\\venv\\lib\\site-packages (from transformers<4.50.0,>=3.4.0->spacy_transformers<1.4.0,>=1.1.2->spacy[transformers]) (6.0.2)\n",
            "Requirement already satisfied: regex!=2019.12.17 in c:\\users\\admin\\desktop\\raspi4-edgelectronix\\venv\\lib\\site-packages (from transformers<4.50.0,>=3.4.0->spacy_transformers<1.4.0,>=1.1.2->spacy[transformers]) (2024.11.6)\n",
            "Requirement already satisfied: tokenizers<0.22,>=0.21 in c:\\users\\admin\\desktop\\raspi4-edgelectronix\\venv\\lib\\site-packages (from transformers<4.50.0,>=3.4.0->spacy_transformers<1.4.0,>=1.1.2->spacy[transformers]) (0.21.2)\n",
            "Requirement already satisfied: safetensors>=0.4.1 in c:\\users\\admin\\desktop\\raspi4-edgelectronix\\venv\\lib\\site-packages (from transformers<4.50.0,>=3.4.0->spacy_transformers<1.4.0,>=1.1.2->spacy[transformers]) (0.5.3)\n",
            "Requirement already satisfied: mdurl~=0.1 in c:\\users\\admin\\desktop\\raspi4-edgelectronix\\venv\\lib\\site-packages (from markdown-it-py>=2.2.0->rich>=10.11.0->typer<1.0.0,>=0.3.0->spacy[transformers]) (0.1.2)\n",
            "Requirement already satisfied: mpmath<1.4,>=1.1.0 in c:\\users\\admin\\desktop\\raspi4-edgelectronix\\venv\\lib\\site-packages (from sympy>=1.13.3->torch>=1.8.0->spacy_transformers<1.4.0,>=1.1.2->spacy[transformers]) (1.3.0)\n"
          ]
        },
        {
          "name": "stderr",
          "output_type": "stream",
          "text": [
            "\n",
            "[notice] A new release of pip is available: 24.0 -> 25.2\n",
            "[notice] To update, run: python.exe -m pip install --upgrade pip\n"
          ]
        }
      ],
      "source": [
        "!pip install -U spacy\n",
        "!pip install -U \"spacy[transformers]\""
      ]
    },
    {
      "cell_type": "code",
      "execution_count": 2,
      "metadata": {},
      "outputs": [],
      "source": [
        "import spacy\n",
        "from spacy.tokens import DocBin\n",
        "from spacy.util import filter_spans\n",
        "from spacy.training import Example\n",
        "import json"
      ]
    },
    {
      "cell_type": "code",
      "execution_count": 3,
      "metadata": {},
      "outputs": [],
      "source": [
        "# Load từ file JSON\n",
        "with open(\"ner_training_data.json\", \"r\", encoding=\"utf-8\") as f:\n",
        "    TRAIN_DATA = json.load(f)"
      ]
    },
    {
      "cell_type": "code",
      "execution_count": 4,
      "metadata": {},
      "outputs": [
        {
          "name": "stderr",
          "output_type": "stream",
          "text": [
            "c:\\Users\\ADMIN\\Desktop\\raspi4-edgelectronix\\venv\\Lib\\site-packages\\tqdm\\auto.py:21: TqdmWarning: IProgress not found. Please update jupyter and ipywidgets. See https://ipywidgets.readthedocs.io/en/stable/user_install.html\n",
            "  from .autonotebook import tqdm as notebook_tqdm\n"
          ]
        }
      ],
      "source": [
        "nlp = spacy.load(\"en_core_web_trf\")\n",
        "db = DocBin()\n",
        "\n",
        "for text, annotations in TRAIN_DATA:\n",
        "    doc = nlp.make_doc(text)\n",
        "    ents = []\n",
        "    for start, end, label in annotations[\"entities\"]:\n",
        "        span = doc.char_span(start, end, label=label)\n",
        "        if span is not None:\n",
        "            ents.append(span)\n",
        "    filtered = filter_spans(ents)\n",
        "    doc.ents = filtered\n",
        "    db.add(doc)\n",
        "\n",
        "db.to_disk(\"train.spacy\")"
      ]
    },
    {
      "cell_type": "code",
      "execution_count": 5,
      "metadata": {},
      "outputs": [
        {
          "name": "stdout",
          "output_type": "stream",
          "text": [
            "\n",
            "\u001b[38;5;1m✘ The provided output file already exists. To force overwriting the\n",
            "config file, set the --force or -F flag.\u001b[0m\n",
            "\n"
          ]
        }
      ],
      "source": [
        "!python -m spacy init config config_trf.cfg --lang en --pipeline ner --optimize accuracy "
      ]
    },
    {
      "cell_type": "code",
      "execution_count": 6,
      "metadata": {},
      "outputs": [
        {
          "name": "stdout",
          "output_type": "stream",
          "text": [
            "\u001b[38;5;4mℹ Saving to output directory: output\u001b[0m\n",
            "\u001b[38;5;4mℹ Using CPU\u001b[0m\n",
            "\u001b[1m\n",
            "=========================== Initializing pipeline ===========================\u001b[0m\n",
            "\u001b[38;5;2m✔ Initialized pipeline\u001b[0m\n",
            "\u001b[1m\n",
            "============================= Training pipeline =============================\u001b[0m\n",
            "\u001b[38;5;4mℹ Pipeline: ['tok2vec', 'ner']\u001b[0m\n",
            "\u001b[38;5;4mℹ Initial learn rate: 0.001\u001b[0m\n",
            "E    #       LOSS TOK2VEC  LOSS NER  ENTS_F  ENTS_P  ENTS_R  SCORE \n",
            "---  ------  ------------  --------  ------  ------  ------  ------\n",
            "  0       0          0.00     38.12    0.00    0.00    0.00    0.00\n",
            "  0     200        462.16   4088.65   87.46   89.04   85.93    0.87\n",
            "\u001b[38;5;2m✔ Saved pipeline to output directory\u001b[0m\n",
            "output\\model-last\n"
          ]
        }
      ],
      "source": [
        "!python -m spacy train config.cfg --output ./output --paths.train train.spacy --paths.dev train.spacy --training.max_steps=300"
      ]
    },
    {
      "cell_type": "code",
      "execution_count": 8,
      "metadata": {},
      "outputs": [
        {
          "name": "stdout",
          "output_type": "stream",
          "text": [
            "20 → 20 (AGE)\n",
            "male → men (GENDER)\n",
            "aquatic → aquatic (PREFERRED_ACCORD)\n",
            "lasts long → Long (LONGEVITY)\n",
            "light sillage → Light (SILLAGE)\n",
            "cheap → Affordable (PRICE)\n"
          ]
        }
      ],
      "source": [
        "from ner_normalize import normalize_entity\n",
        "\n",
        "nlp_ner = spacy.load(\"./output/model-last\")\n",
        "test_text = \"I'm 20 years old Im male I want something that has aquatic scent Something that lasts long and has light sillage Something that is cheap also\"\n",
        "\n",
        "doc = nlp_ner(test_text)\n",
        "\n",
        "for ent in doc.ents:\n",
        "    raw_text = ent.text\n",
        "    label = ent.label_\n",
        "    normalized = normalize_entity(label, raw_text)\n",
        "    print(f\"{raw_text} → {normalized} ({label})\")"
      ]
    }
  ],
  "metadata": {
    "kernelspec": {
      "display_name": "venv",
      "language": "python",
      "name": "python3"
    },
    "language_info": {
      "codemirror_mode": {
        "name": "ipython",
        "version": 3
      },
      "file_extension": ".py",
      "mimetype": "text/x-python",
      "name": "python",
      "nbconvert_exporter": "python",
      "pygments_lexer": "ipython3",
      "version": "3.11.9"
    }
  },
  "nbformat": 4,
  "nbformat_minor": 5
}
